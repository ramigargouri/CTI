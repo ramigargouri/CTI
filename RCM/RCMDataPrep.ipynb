{
  "nbformat": 4,
  "nbformat_minor": 0,
  "metadata": {
    "colab": {
      "provenance": []
    },
    "kernelspec": {
      "name": "python3",
      "display_name": "Python 3"
    },
    "language_info": {
      "name": "python"
    }
  },
  "cells": [
    {
      "cell_type": "code",
      "source": [
        "import gzip\n",
        "import json\n",
        "import pandas as pd\n",
        "\n",
        "# Chemin du fichier JSON compressé (ex: CVEs 2024)\n",
        "file_path = \"/content/nvdcve-1.1-2024.json.gz\"\n",
        "\n",
        "# Ouvrir et charger le contenu du fichier JSON\n",
        "with gzip.open(file_path, 'rt', encoding='utf-8') as f:\n",
        "    data = json.load(f)\n",
        "\n",
        "# Extraire les informations pertinentes\n",
        "records = []\n",
        "for item in data['CVE_Items']:\n",
        "    cve_id = item['cve']['CVE_data_meta']['ID']\n",
        "    description = item['cve']['description']['description_data'][0]['value']\n",
        "\n",
        "    # Extraire les CWE associés (s'ils existent)\n",
        "    cwes = item.get('cve', {}).get('problemtype', {}).get('problemtype_data', [])\n",
        "    cwe_list = [entry['description'][0]['value'] for entry in cwes if entry['description']]\n",
        "    cwe = \", \".join(cwe_list) if cwe_list else \"N/A\"\n",
        "\n",
        "    # Ajouter l'entrée aux résultats\n",
        "    records.append({\n",
        "        \"CVE_ID\": cve_id,\n",
        "        \"Description\": description,\n",
        "        \"CWE\": cwe\n",
        "    })\n",
        "\n",
        "# Convertir les données en DataFrame\n",
        "df = pd.DataFrame(records)\n",
        "\n",
        "# Sauvegarder en format TSV\n",
        "df.to_csv(\"cve_2024.tsv\", sep='\\t', index=False)\n",
        "\n",
        "print(\"Le fichier TSV a été généré avec succès!\")\n"
      ],
      "metadata": {
        "colab": {
          "base_uri": "https://localhost:8080/"
        },
        "id": "cTBU2ijBfbrZ",
        "outputId": "8e7ce52b-4ea4-4f09-f810-caab50994faa"
      },
      "execution_count": 12,
      "outputs": [
        {
          "output_type": "stream",
          "name": "stdout",
          "text": [
            "Le fichier TSV a été généré avec succès!\n"
          ]
        }
      ]
    }
  ]
}