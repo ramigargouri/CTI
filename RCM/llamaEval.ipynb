{
 "cells": [
  {
   "cell_type": "code",
   "execution_count": null,
   "metadata": {},
   "outputs": [],
   "source": [
    "# Use a pipeline as a high-level helper\n",
    "from transformers import pipeline\n",
    "\n",
    "pipe = pipeline(\"text-generation\", model=\"meta-llama/Llama-3.1-8B\",device=0)"
   ]
  },
  {
   "cell_type": "code",
   "execution_count": null,
   "metadata": {},
   "outputs": [],
   "source": [
    "\n",
    "\n",
    "# Define the dataset\n",
    "dataset = [\n",
    "    {\n",
    "        \"CVE_URL\": \"https://nvd.nist.gov/vuln/detail/CVE-2024-22049\",\n",
    "        \"Description\": \"httparty before 0.21.0 is vulnerable to an assumed-immutable web parameter vulnerability. \"\n",
    "                       \"A remote and unauthenticated attacker can provide a crafted filename parameter during \"\n",
    "                       \"multipart/form-data uploads which could result in attacker controlled filenames being written.\",\n",
    "        \"Prompt\": \"Analyze the following CVE description and map it to the appropriate CWE. Provide a brief justification \"\n",
    "                  \"for your choice. Ensure the last line of your response contains only the CWE ID.\",\n",
    "        \"Options\": [\"CWE-668\", \"CWE-20\"]\n",
    "    },\n",
    "    {\n",
    "        \"CVE_URL\": \"https://nvd.nist.gov/vuln/detail/CVE-2024-22307\",\n",
    "        \"Description\": \"Improper Neutralization of Input During Web Page Generation ('Cross-site Scripting') vulnerability \"\n",
    "                       \"in WP Lab WP-Lister Lite for eBay allows Reflected XSS. This issue affects WP-Lister Lite for eBay: \"\n",
    "                       \"from n/a through 3.5.7.\",\n",
    "        \"Prompt\": \"Analyze the following CVE description and map it to the appropriate CWE. Provide a brief justification \"\n",
    "                  \"for your choice. Ensure the last line of your response contains only the CWE ID.\",\n",
    "        \"Options\": [\"CWE-79\", \"CWE\"]\n",
    "    },\n",
    "    {\n",
    "        \"CVE_URL\": \"https://nvd.nist.gov/vuln/detail/CVE-2023-38650\",\n",
    "        \"Description\": \"Multiple integer overflow vulnerabilities exist in the VZT vzt_rd_block_vch_decode times parsing \"\n",
    "                       \"functionality of GTKWave 3.3.115. A specially crafted .vzt file can lead to memory corruption. \"\n",
    "                       \"A victim would need to open a malicious file to trigger these vulnerabilities. This vulnerability \"\n",
    "                       \"concerns the integer overflow when num_time_ticks is not zero.\",\n",
    "        \"Prompt\": \"Analyze the following CVE description and map it to the appropriate CWE. Provide a brief justification \"\n",
    "                  \"for your choice. Ensure the last line of your response contains only the CWE ID.\",\n",
    "        \"Options\": [\"CWE-190\"]\n",
    "    }\n",
    "]\n",
    "\n",
    "# Function to evaluate a CVE\n",
    "def evaluate_cve(cve_entry):\n",
    "    prompt = f\"{cve_entry['Prompt']} CVE Description: {cve_entry['Description']}\"\n",
    "    result = qa_pipeline(prompt, max_length=100, do_sample=True)\n",
    "    response = result[0][\"generated_text\"]\n",
    "    return {\n",
    "        \"CVE_URL\": cve_entry[\"CVE_URL\"],\n",
    "        \"Response\": response.strip()\n",
    "    }\n",
    "\n",
    "# Evaluate each CVE entry\n",
    "results = [evaluate_cve(cve) for cve in dataset]\n",
    "\n",
    "# Print the results\n",
    "for result in results:\n",
    "    print(f\"CVE URL: {result['CVE_URL']}\")\n",
    "    print(f\"Response: {result['Response']}\\n\")\n"
   ]
  },
  {
   "cell_type": "code",
   "execution_count": null,
   "metadata": {},
   "outputs": [],
   "source": []
  },
  {
   "cell_type": "code",
   "execution_count": null,
   "metadata": {},
   "outputs": [],
   "source": []
  },
  {
   "cell_type": "code",
   "execution_count": null,
   "metadata": {},
   "outputs": [],
   "source": []
  },
  {
   "cell_type": "code",
   "execution_count": null,
   "metadata": {},
   "outputs": [],
   "source": []
  }
 ],
 "metadata": {
  "kernelspec": {
   "display_name": "marwa_env",
   "language": "python",
   "name": "python3"
  },
  "language_info": {
   "codemirror_mode": {
    "name": "ipython",
    "version": 3
   },
   "file_extension": ".py",
   "mimetype": "text/x-python",
   "name": "python",
   "nbconvert_exporter": "python",
   "pygments_lexer": "ipython3",
   "version": "3.12.7"
  }
 },
 "nbformat": 4,
 "nbformat_minor": 2
}
